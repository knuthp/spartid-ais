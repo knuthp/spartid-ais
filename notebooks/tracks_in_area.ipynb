{
 "cells": [
  {
   "cell_type": "markdown",
   "metadata": {},
   "source": [
    "# Use duckdb to read from postgis for area\n",
    "\n",
    "Do some testing with DuckDB for spatial analysis. \n",
    "\n",
    "We have postgis which can handle spatial queries. At the moment we use postgis as postgres and has not enabled the spatial datatypes.\n",
    "\n",
    "We plan is to move some history data to parquet and need a query language that works across parquet and postgres/postgis\n",
    "\n",
    "\n",
    "Creating geojson using a map can be done from <https://geojson.io>"
   ]
  },
  {
   "cell_type": "code",
   "execution_count": null,
   "metadata": {},
   "outputs": [],
   "source": [
    "from pathlib import Path\n",
    "import duckdb\n",
    "import json\n",
    "from shapely.geometry import shape"
   ]
  },
  {
   "cell_type": "markdown",
   "metadata": {},
   "source": [
    "We need to setup DuckDB and install/load spatial and postgres support. \n",
    "\n",
    "We use an in memory DuckDB database since all data is external to DuckDB."
   ]
  },
  {
   "cell_type": "code",
   "execution_count": null,
   "metadata": {},
   "outputs": [],
   "source": [
    "con = duckdb.connect()\n",
    "for ext in [\"postgres\", \"spatial\"]:\n",
    "    con.install_extension(ext)\n",
    "    con.load_extension(ext)\n",
    "con.sql(\"\"\"\n",
    "    ATTACH 'dbname=spartid_ais user=postgres password=postgres host=127.0.0.1' AS db (TYPE postgres); \n",
    "\"\"\")"
   ]
  },
  {
   "cell_type": "markdown",
   "metadata": {},
   "source": [
    "We define some geojson polygons in files and use that to define areas of interest."
   ]
  },
  {
   "cell_type": "code",
   "execution_count": null,
   "metadata": {},
   "outputs": [],
   "source": [
    "within_area_file = Path(\"./inner_oslofjord.geojson\")\n",
    "# within_area_file = Path(\"./mandal_to_bergen.geojson\")\n",
    "feature = json.loads(within_area_file.read_text())\n",
    "feature"
   ]
  },
  {
   "cell_type": "code",
   "execution_count": null,
   "metadata": {},
   "outputs": [],
   "source": [
    "area = shape(feature[\"features\"][0][\"geometry\"])\n",
    "area"
   ]
  },
  {
   "cell_type": "markdown",
   "metadata": {},
   "source": [
    "## Query last ship positions"
   ]
  },
  {
   "cell_type": "code",
   "execution_count": null,
   "metadata": {},
   "outputs": [],
   "source": [
    "con.sql(\"SELECT COUNT(*) FROM db.public.last_position\")"
   ]
  },
  {
   "cell_type": "code",
   "execution_count": null,
   "metadata": {},
   "outputs": [],
   "source": [
    "# Execute the SQL query to \n",
    "query = \"\"\"\n",
    "SELECT *, ST_POINT(long, lat) as geom, datediff('hour', now() AT TIME ZONE 'UTC', timestamp)\n",
    "FROM db.public.last_position\n",
    "WHERE ST_INTERSECTS(geom, (?)) AND datediff('hour', now()::timestamp, timestamp) > -6\n",
    "\"\"\"\n",
    "\n",
    "con.execute(query, (area.wkt,)).df()"
   ]
  },
  {
   "cell_type": "code",
   "execution_count": null,
   "metadata": {},
   "outputs": [],
   "source": [
    "\" AND \".join([f\"ST_INTERSECTS(geom, (?))\" for x in (1, 2, 3)])"
   ]
  },
  {
   "cell_type": "markdown",
   "metadata": {},
   "source": [
    "## Query historic positions"
   ]
  },
  {
   "cell_type": "code",
   "execution_count": null,
   "metadata": {},
   "outputs": [],
   "source": [
    "con.sql(\"SELECT COUNT(*) FROM db.public.historic_position\")"
   ]
  },
  {
   "cell_type": "code",
   "execution_count": null,
   "metadata": {},
   "outputs": [],
   "source": [
    "# Execute the SQL query to \n",
    "query = \"\"\"\n",
    "SELECT *, ST_POINT(long, lat) as geom, datediff('hour', now() AT TIME ZONE 'UTC', timestamp)\n",
    "FROM db.public.historic_position\n",
    "WHERE ST_WITHIN(geom, (?)) AND datediff('days', now()::timestamp, timestamp) > -6\n",
    "\"\"\"\n",
    "\n",
    "con.execute(query, (area.wkt,)).df()"
   ]
  },
  {
   "cell_type": "code",
   "execution_count": null,
   "metadata": {},
   "outputs": [],
   "source": [
    "areas = [shape(x[\"geometry\"]) for x in feature[\"features\"]]\n",
    "\n",
    "multi_intersects = \" OR \".join([f\"ST_INTERSECTS(geom, (?))\" for _ in areas])\n",
    "# Execute the SQL query to \n",
    "query = f\"\"\"\n",
    "SELECT *, ST_POINT(long, lat) as geom, datediff('hour', now() AT TIME ZONE 'UTC', timestamp)\n",
    "FROM db.public.last_position\n",
    "WHERE ({multi_intersects}) AND datediff('hour', now()::timestamp, timestamp) > -6\n",
    "\"\"\"\n",
    "\n",
    "con.execute(query, [area.wkt for area in areas]).df()"
   ]
  },
  {
   "cell_type": "code",
   "execution_count": null,
   "metadata": {},
   "outputs": [],
   "source": []
  }
 ],
 "metadata": {
  "kernelspec": {
   "display_name": ".venv",
   "language": "python",
   "name": "python3"
  },
  "language_info": {
   "codemirror_mode": {
    "name": "ipython",
    "version": 3
   },
   "file_extension": ".py",
   "mimetype": "text/x-python",
   "name": "python",
   "nbconvert_exporter": "python",
   "pygments_lexer": "ipython3",
   "version": "3.10.12"
  }
 },
 "nbformat": 4,
 "nbformat_minor": 2
}
