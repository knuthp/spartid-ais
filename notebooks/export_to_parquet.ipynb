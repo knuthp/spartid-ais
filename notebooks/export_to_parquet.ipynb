{
 "cells": [
  {
   "cell_type": "code",
   "execution_count": 2,
   "metadata": {},
   "outputs": [],
   "source": [
    "import duckdb"
   ]
  },
  {
   "cell_type": "code",
   "execution_count": 3,
   "metadata": {},
   "outputs": [],
   "source": [
    "con = duckdb.connect()\n",
    "for ext in [\"postgres\", \"spatial\"]:\n",
    "    con.install_extension(ext)\n",
    "    con.load_extension(ext)\n",
    "con.sql(\"\"\"\n",
    "    ATTACH 'dbname=spartid_ais user=postgres password=postgres host=127.0.0.1' AS db (TYPE postgres);\n",
    "\"\"\")"
   ]
  },
  {
   "cell_type": "code",
   "execution_count": null,
   "metadata": {},
   "outputs": [],
   "source": [
    "con.sql(\"SELECT COUNT(*) FROM db.public.last_position\")"
   ]
  },
  {
   "cell_type": "code",
   "execution_count": null,
   "metadata": {},
   "outputs": [],
   "source": [
    "con.sql(\"SELECT COUNT(*) FROM db.public.historic_position\")"
   ]
  },
  {
   "cell_type": "code",
   "execution_count": 27,
   "metadata": {},
   "outputs": [],
   "source": [
    "con.sql(\"COPY db.public.last_position to 'last_position.parquet' (FORMAT PARQUET);\")"
   ]
  },
  {
   "cell_type": "code",
   "execution_count": 28,
   "metadata": {},
   "outputs": [],
   "source": [
    "con.sql(\n",
    "    \"COPY db.public.imo_vessel_codes to 'imo_vessel_codes.parquet' (FORMAT PARQUET);\"\n",
    ")"
   ]
  },
  {
   "cell_type": "code",
   "execution_count": 6,
   "metadata": {},
   "outputs": [],
   "source": [
    "con.sql(\n",
    "    \"COPY db.public.historic_position to 'historic_position.parquet' (FORMAT PARQUET);\"\n",
    ")"
   ]
  },
  {
   "cell_type": "code",
   "execution_count": 20,
   "metadata": {},
   "outputs": [],
   "source": [
    "con.sql(\"\"\"\n",
    "    CREATE OR REPLACE VIEW historic_groups AS\n",
    "    SELECT\n",
    "        EXTRACT(YEAR FROM timestamp) as year,\n",
    "        EXTRACT(MONTH FROM timestamp) as month,\n",
    "        EXTRACT(WEEK FROM timestamp) as week,\n",
    "        timestamp,\n",
    "        *,\n",
    "    FROM\n",
    "        db.public.historic_position\n",
    "        ;\n",
    "\"\"\")"
   ]
  },
  {
   "cell_type": "code",
   "execution_count": 26,
   "metadata": {},
   "outputs": [],
   "source": [
    "year = 2024\n",
    "for week in range(10, 52):\n",
    "    con.sql(f\"\"\"\n",
    "        COPY (\n",
    "            SELECT *\n",
    "            FROM historic_groups\n",
    "            WHERE year = '{year}' AND week = '{week}'\n",
    "        ) TO historic_position_{year}_w{week}.parquet (FORMAT PARQUET)\n",
    "        ;\n",
    "    \"\"\")"
   ]
  },
  {
   "cell_type": "code",
   "execution_count": null,
   "metadata": {},
   "outputs": [],
   "source": [
    "a = con.sql(\"SELECT * from historic_groups;\")\n",
    "a"
   ]
  },
  {
   "cell_type": "code",
   "execution_count": null,
   "metadata": {},
   "outputs": [],
   "source": []
  }
 ],
 "metadata": {
  "kernelspec": {
   "display_name": ".venv",
   "language": "python",
   "name": "python3"
  },
  "language_info": {
   "codemirror_mode": {
    "name": "ipython",
    "version": 3
   },
   "file_extension": ".py",
   "mimetype": "text/x-python",
   "name": "python",
   "nbconvert_exporter": "python",
   "pygments_lexer": "ipython3",
   "version": "3.10.12"
  }
 },
 "nbformat": 4,
 "nbformat_minor": 2
}
